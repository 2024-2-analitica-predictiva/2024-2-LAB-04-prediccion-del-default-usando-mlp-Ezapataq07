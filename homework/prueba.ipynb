{
 "cells": [
  {
   "cell_type": "code",
   "execution_count": 1,
   "metadata": {},
   "outputs": [
    {
     "name": "stderr",
     "output_type": "stream",
     "text": [
      "d:\\Escritorio\\MaestriaAnalitica\\2024_2\\AnaliticaPredictiva\\Laboratorios\\2024-2-LAB-04-prediccion-del-default-usando-mlp-Ezapataq07\\.venv\\lib\\site-packages\\sklearn\\base.py:380: InconsistentVersionWarning: Trying to unpickle estimator OneHotEncoder from version 1.5.2 when using version 1.6.0. This might lead to breaking code or invalid results. Use at your own risk. For more info please refer to:\n",
      "https://scikit-learn.org/stable/model_persistence.html#security-maintainability-limitations\n",
      "  warnings.warn(\n",
      "d:\\Escritorio\\MaestriaAnalitica\\2024_2\\AnaliticaPredictiva\\Laboratorios\\2024-2-LAB-04-prediccion-del-default-usando-mlp-Ezapataq07\\.venv\\lib\\site-packages\\sklearn\\base.py:380: InconsistentVersionWarning: Trying to unpickle estimator ColumnTransformer from version 1.5.2 when using version 1.6.0. This might lead to breaking code or invalid results. Use at your own risk. For more info please refer to:\n",
      "https://scikit-learn.org/stable/model_persistence.html#security-maintainability-limitations\n",
      "  warnings.warn(\n",
      "d:\\Escritorio\\MaestriaAnalitica\\2024_2\\AnaliticaPredictiva\\Laboratorios\\2024-2-LAB-04-prediccion-del-default-usando-mlp-Ezapataq07\\.venv\\lib\\site-packages\\sklearn\\base.py:380: InconsistentVersionWarning: Trying to unpickle estimator StandardScaler from version 1.5.2 when using version 1.6.0. This might lead to breaking code or invalid results. Use at your own risk. For more info please refer to:\n",
      "https://scikit-learn.org/stable/model_persistence.html#security-maintainability-limitations\n",
      "  warnings.warn(\n",
      "d:\\Escritorio\\MaestriaAnalitica\\2024_2\\AnaliticaPredictiva\\Laboratorios\\2024-2-LAB-04-prediccion-del-default-usando-mlp-Ezapataq07\\.venv\\lib\\site-packages\\sklearn\\base.py:380: InconsistentVersionWarning: Trying to unpickle estimator PCA from version 1.5.2 when using version 1.6.0. This might lead to breaking code or invalid results. Use at your own risk. For more info please refer to:\n",
      "https://scikit-learn.org/stable/model_persistence.html#security-maintainability-limitations\n",
      "  warnings.warn(\n",
      "d:\\Escritorio\\MaestriaAnalitica\\2024_2\\AnaliticaPredictiva\\Laboratorios\\2024-2-LAB-04-prediccion-del-default-usando-mlp-Ezapataq07\\.venv\\lib\\site-packages\\sklearn\\base.py:380: InconsistentVersionWarning: Trying to unpickle estimator SelectKBest from version 1.5.2 when using version 1.6.0. This might lead to breaking code or invalid results. Use at your own risk. For more info please refer to:\n",
      "https://scikit-learn.org/stable/model_persistence.html#security-maintainability-limitations\n",
      "  warnings.warn(\n",
      "d:\\Escritorio\\MaestriaAnalitica\\2024_2\\AnaliticaPredictiva\\Laboratorios\\2024-2-LAB-04-prediccion-del-default-usando-mlp-Ezapataq07\\.venv\\lib\\site-packages\\sklearn\\base.py:380: InconsistentVersionWarning: Trying to unpickle estimator MLPClassifier from version 1.5.2 when using version 1.6.0. This might lead to breaking code or invalid results. Use at your own risk. For more info please refer to:\n",
      "https://scikit-learn.org/stable/model_persistence.html#security-maintainability-limitations\n",
      "  warnings.warn(\n",
      "d:\\Escritorio\\MaestriaAnalitica\\2024_2\\AnaliticaPredictiva\\Laboratorios\\2024-2-LAB-04-prediccion-del-default-usando-mlp-Ezapataq07\\.venv\\lib\\site-packages\\sklearn\\base.py:380: InconsistentVersionWarning: Trying to unpickle estimator Pipeline from version 1.5.2 when using version 1.6.0. This might lead to breaking code or invalid results. Use at your own risk. For more info please refer to:\n",
      "https://scikit-learn.org/stable/model_persistence.html#security-maintainability-limitations\n",
      "  warnings.warn(\n",
      "d:\\Escritorio\\MaestriaAnalitica\\2024_2\\AnaliticaPredictiva\\Laboratorios\\2024-2-LAB-04-prediccion-del-default-usando-mlp-Ezapataq07\\.venv\\lib\\site-packages\\sklearn\\base.py:380: InconsistentVersionWarning: Trying to unpickle estimator FunctionTransformer from version 1.5.2 when using version 1.6.0. This might lead to breaking code or invalid results. Use at your own risk. For more info please refer to:\n",
      "https://scikit-learn.org/stable/model_persistence.html#security-maintainability-limitations\n",
      "  warnings.warn(\n",
      "d:\\Escritorio\\MaestriaAnalitica\\2024_2\\AnaliticaPredictiva\\Laboratorios\\2024-2-LAB-04-prediccion-del-default-usando-mlp-Ezapataq07\\.venv\\lib\\site-packages\\sklearn\\base.py:380: InconsistentVersionWarning: Trying to unpickle estimator LabelBinarizer from version 1.5.2 when using version 1.6.0. This might lead to breaking code or invalid results. Use at your own risk. For more info please refer to:\n",
      "https://scikit-learn.org/stable/model_persistence.html#security-maintainability-limitations\n",
      "  warnings.warn(\n",
      "d:\\Escritorio\\MaestriaAnalitica\\2024_2\\AnaliticaPredictiva\\Laboratorios\\2024-2-LAB-04-prediccion-del-default-usando-mlp-Ezapataq07\\.venv\\lib\\site-packages\\sklearn\\base.py:380: InconsistentVersionWarning: Trying to unpickle estimator GridSearchCV from version 1.5.2 when using version 1.6.0. This might lead to breaking code or invalid results. Use at your own risk. For more info please refer to:\n",
      "https://scikit-learn.org/stable/model_persistence.html#security-maintainability-limitations\n",
      "  warnings.warn(\n"
     ]
    }
   ],
   "source": [
    "import pickle\n",
    "\n",
    "with open('../files/models/model.pkl', 'rb') as file:\n",
    "    model = pickle.load(file)"
   ]
  },
  {
   "cell_type": "code",
   "execution_count": 2,
   "metadata": {},
   "outputs": [
    {
     "data": {
      "text/plain": [
       "{'mlp__alpha': 0.26,\n",
       " 'mlp__beta_1': 0.99,\n",
       " 'mlp__hidden_layer_sizes': (51, 31, 41),\n",
       " 'mlp__learning_rate_init': 0.000172,\n",
       " 'selectk__k': 20}"
      ]
     },
     "execution_count": 2,
     "metadata": {},
     "output_type": "execute_result"
    }
   ],
   "source": [
    "model.best_params_"
   ]
  },
  {
   "cell_type": "code",
   "execution_count": 4,
   "metadata": {},
   "outputs": [],
   "source": [
    "import gzip\n",
    "with gzip.open('../files/models/model.pkl.gz', 'wb') as file:\n",
    "            pickle.dump(model, file)"
   ]
  },
  {
   "cell_type": "code",
   "execution_count": null,
   "metadata": {},
   "outputs": [],
   "source": []
  }
 ],
 "metadata": {
  "kernelspec": {
   "display_name": ".venv",
   "language": "python",
   "name": "python3"
  },
  "language_info": {
   "codemirror_mode": {
    "name": "ipython",
    "version": 3
   },
   "file_extension": ".py",
   "mimetype": "text/x-python",
   "name": "python",
   "nbconvert_exporter": "python",
   "pygments_lexer": "ipython3",
   "version": "3.10.13"
  }
 },
 "nbformat": 4,
 "nbformat_minor": 2
}
